{
 "cells": [
  {
   "cell_type": "code",
   "execution_count": 24,
   "metadata": {},
   "outputs": [],
   "source": [
    "import os\n",
    "import torch\n",
    "import numpy as np\n",
    "import pandas as pd\n",
    "from torch import nn\n",
    "from datetime import datetime\n",
    "import matplotlib.pyplot as plt\n",
    "from torchvision import datasets\n",
    "from collections import OrderedDict\n",
    "from sklearn.model_selection import KFold\n",
    "from torchvision.transforms import ToTensor\n",
    "from torch.utils.data import DataLoader,Dataset\n",
    "from torch_intermediate_layer_getter import IntermediateLayerGetter as MidGetter\n",
    "os.environ['CUDA_LAUNCH_BLOCKING'] = '1'"
   ]
  },
  {
   "cell_type": "markdown",
   "metadata": {},
   "source": [
    "## DATA\n",
    "- input X: data \"images\" that contains stocks' information such as open, high, low, close, vwap, volume, return1, turn, free_turn, in a given time interval\n",
    "- label Y: the normalized return of the input stock in the given time interval"
   ]
  },
  {
   "cell_type": "code",
   "execution_count": 25,
   "metadata": {},
   "outputs": [],
   "source": [
    "def normalize(y):\n",
    "    y_norm = np.empty((y.shape))\n",
    "    for i in range(len(y)):\n",
    "        return_ = y[i]\n",
    "        mean_   = np.nanmean(return_)\n",
    "        std_    = np.nanstd(return_)\n",
    "        y_norm[i] = (return_-mean_) / std_\n",
    "    return y_norm"
   ]
  },
  {
   "cell_type": "code",
   "execution_count": 26,
   "metadata": {},
   "outputs": [],
   "source": [
    "def load_dataset():\n",
    "    '''\n",
    "    load 数据并使时间成为第一个维度\n",
    "    '''\n",
    "    X_5  = np.load('x5.npy')\n",
    "    X_10 = np.load('x10.npy')\n",
    "    Y_5  = np.load('y5.npy')\n",
    "    Y_10 = np.load('y10.npy')\n",
    "    ts_code_list = np.load('ts_code_list.npy')\n",
    "    sample_date = X_5[:,0,:,0,-1] # 采样日期\n",
    "    sample_date = [datetime.strptime(str(int(item)),\"%Y%m%d\") for item in sample_date]\n",
    "    X_5  = X_5[:,:,:,1:,:]\n",
    "    X_10 = X_10[:,:,:,1:,:]\n",
    "    return X_5, X_10, Y_5, Y_10, sample_date, ts_code_list"
   ]
  },
  {
   "cell_type": "markdown",
   "metadata": {},
   "source": [
    "## Parameters"
   ]
  },
  {
   "cell_type": "code",
   "execution_count": 27,
   "metadata": {},
   "outputs": [],
   "source": [
    "feature_layer_stride = 10\n",
    "pooling_layer_stride = 3\n",
    "batch_size           = 1000"
   ]
  },
  {
   "cell_type": "markdown",
   "metadata": {},
   "source": [
    "## Feature Extract Layer Functions"
   ]
  },
  {
   "cell_type": "code",
   "execution_count": 28,
   "metadata": {},
   "outputs": [],
   "source": [
    "def generateC(n):\n",
    "    '''\n",
    "    生成组合数数对\n",
    "    '''\n",
    "    pair = []\n",
    "    for i in range(n):\n",
    "        for j in range(n):\n",
    "            if all([i!=j,i<j]):\n",
    "                pair.append([i,j])\n",
    "    return pair\n",
    "\n",
    "def ts_corr(X,pairs,d=10,stride=10):\n",
    "    \"\"\"\n",
    "    过去d天X值构成的时序数列和Y值构成的时序数列的相关系数\n",
    "    corr = cov(X,Y) / ( std(X) * std(Y) )\n",
    "    \"\"\"\n",
    "    shape1,shape2,shape3,shape4,shape5 = X.shape\n",
    "    all_corr = np.empty((shape1,shape2,shape3,len(pairs),3))\n",
    "    X_ = np.reshape(X,(shape1,shape2,shape3,shape4,-1,stride))\n",
    "    mean = np.mean(X_,axis=-1,keepdims=True)\n",
    "    std  = np.std(X_,axis=-1,keepdims=True)\n",
    "    x_center = X_ - mean\n",
    "    for i, pair in enumerate(pairs):\n",
    "        x_idx,y_idx = pair[0],pair[1]\n",
    "        x = x_center[:,:,:,x_idx:x_idx+1,...]\n",
    "        y = x_center[:,:,:,y_idx:y_idx+1,...]\n",
    "        x_std = std[:,:,:,x_idx:x_idx+1,...]\n",
    "        y_std = std[:,:,:,y_idx:y_idx+1,...]\n",
    "        cov = np.sum(x*y,axis=-1,keepdims=True) / d\n",
    "        corr = (cov / (x_std*y_std))[:,:,:,:,:,0]\n",
    "        all_corr[:,:,:,i:i+1,:] = corr\n",
    "    return all_corr\n",
    "\n",
    "def ts_cov(X,pairs,d=10,stride=10):\n",
    "    \"\"\"\n",
    "    过去d天X值构成的时序数列和Y值构成的时序数列的协方差\n",
    "    Sum( (X-mean(X)) * (Y-mean(Y)) ) / # of time segment\n",
    "    \"\"\"\n",
    "    shape1,shape2,shape3,shape4,shape5 = X.shape\n",
    "    all_cov = np.empty((shape1,shape2,shape3,len(pairs),3))\n",
    "    X_ = np.reshape(X,(shape1,shape2,shape3,shape4,-1,stride))\n",
    "    mean = np.mean(X_,axis=-1,keepdims=True)\n",
    "    x_center = X_ - mean\n",
    "    for i, pair in enumerate(pairs):\n",
    "        x_idx,y_idx = pair[0],pair[1]\n",
    "        x = x_center[:,:,:,x_idx:x_idx+1,...]\n",
    "        y = x_center[:,:,:,y_idx:y_idx+1,...]\n",
    "        cov = np.sum(x*y,axis=-1) / d\n",
    "        all_cov[:,:,:,i:i+1,:] = cov\n",
    "    return all_cov\n",
    "\n",
    "def ts_stddev(X,d=10,stride=10):\n",
    "    \"\"\"\n",
    "    过去 d 天 X 值构成的时序数列的标准差\n",
    "    \"\"\"\n",
    "    shape1,shape2,shape3,shape4,shape5 = X.shape\n",
    "    X_ = np.reshape(X,(shape1,shape2,shape3,shape4,-1,stride))\n",
    "    std  = np.std(X_,axis=-1)\n",
    "    return std\n",
    "\n",
    "def ts_zscore(X,d=10,stride=10):\n",
    "    \"\"\"\n",
    "    过去 d 天 X 值构成的时序数列的平均值除以标准差。\n",
    "    \"\"\"\n",
    "    shape1,shape2,shape3,shape4,shape5 = X.shape\n",
    "    X_ = np.reshape(X,(shape1,shape2,shape3,shape4,-1,stride))\n",
    "    mean = np.mean(X_,axis=-1)\n",
    "    std  = np.std(X_,axis=-1)\n",
    "    zscore = mean / (std+1e-5)\n",
    "    return zscore\n",
    "\n",
    "def ts_return(X,d=10,stride=10):\n",
    "    \"\"\"\n",
    "    (X - delay(X, d))/delay(X, d)-1, delay(X, d)为 X 在 d 天前的取值。\n",
    "    \"\"\"\n",
    "    shape1,shape2,shape3,shape4,shape5 = X.shape\n",
    "    X_ = np.reshape(X,(shape1,shape2,shape3,shape4,-1,stride))\n",
    "    x = X_[:,:,:,:,:,-1:]\n",
    "    delay = X_[:,:,:,:,:,0:1]\n",
    "    return_ = (x-delay) / (delay-1)\n",
    "    return return_.reshape(shape1,shape2,shape3,shape4,-1)\n",
    "\n",
    "def ts_decaylinear(X,d=10,stride=10):\n",
    "    \"\"\"\n",
    "    过去 d 天 X 值构成的时序数列的加权平均值，权数为 d, d – 1, …, 1(权数之和应为 1，需进行归一化处理)，\n",
    "    其中离现在越近的日子权数越大\n",
    "    \"\"\"\n",
    "    shape1,shape2,shape3,shape4,shape5 = X.shape\n",
    "    X_ = np.reshape(X,(shape1,shape2,shape3,shape4,-1,stride))\n",
    "    weight = np.arange(1,d+1)\n",
    "    weight = (weight / np.sum(weight)).reshape(1,-1)\n",
    "    decaylinear = np.sum(X_*weight,axis=-1) / np.sum(weight)\n",
    "    return decaylinear\n",
    "\n",
    "def ts_mean(X,d=10,stride=10):\n",
    "    \"\"\"\n",
    "    过去 d 天 X 值构成的时序数列之和\n",
    "    \"\"\"\n",
    "    shape1,shape2,shape3,shape4,shape5 = X.shape\n",
    "    X_ = np.reshape(X,(shape1,shape2,shape3,shape4,-1,stride))\n",
    "    mean = np.mean(X_,axis=-1)\n",
    "    return mean"
   ]
  },
  {
   "cell_type": "code",
   "execution_count": 29,
   "metadata": {},
   "outputs": [],
   "source": [
    "def feature_extract(input_):\n",
    "    '''\n",
    "    param: data image\n",
    "    return: feature layer\n",
    "    '''\n",
    "    pairs = generateC(9)\n",
    "    ts_corr10        = ts_corr(input_,pairs)\n",
    "    ts_cov10         = ts_cov(input_,pairs)\n",
    "    ts_stddev10      = ts_stddev(input_)\n",
    "    ts_zscore10      = ts_zscore(input_)\n",
    "    ts_return10      = ts_return(input_)\n",
    "    ts_decaylinear10 = ts_decaylinear(input_)\n",
    "    ts_mean10        = ts_mean(input_)\n",
    "    feature_layer = np.concatenate((ts_corr10,ts_cov10,ts_stddev10,ts_zscore10,ts_return10,ts_decaylinear10,ts_mean10),axis=3)\n",
    "    return feature_layer\n"
   ]
  },
  {
   "cell_type": "code",
   "execution_count": 30,
   "metadata": {},
   "outputs": [],
   "source": [
    "def replace_nan_w_zero(x,y):\n",
    "    nan_idx = (x != x).nonzero()\n",
    "    date  = nan_idx[0]\n",
    "    stock = nan_idx[1]\n",
    "    date_stock_pair = [p for p in zip(date,stock) if None not in p]\n",
    "    date_stock_pair = list(set(date_stock_pair))\n",
    "    date_stock_pair = sorted(date_stock_pair,key=lambda tup:(tup[0],tup[1]))\n",
    "    for idx in date_stock_pair:\n",
    "        x[idx] = 0\n",
    "        y[idx] = 0\n",
    "    return x,y"
   ]
  },
  {
   "cell_type": "code",
   "execution_count": 31,
   "metadata": {},
   "outputs": [],
   "source": [
    "def preprocess_input(x,y):\n",
    "    '''\n",
    "    feature extract后, BN前的输入\n",
    "    '''\n",
    "    x = feature_extract(x)\n",
    "    x,y = replace_nan_w_zero(x,y)\n",
    "    shape1,shape2,shape3,shape4,shape5 = x.shape\n",
    "    x = np.reshape(x,(-1,shape3,shape4,shape5))\n",
    "    y = np.reshape(y,(-1,shape3))\n",
    "    return x, y"
   ]
  },
  {
   "cell_type": "markdown",
   "metadata": {},
   "source": [
    "## Get dataloader"
   ]
  },
  {
   "cell_type": "code",
   "execution_count": 32,
   "metadata": {},
   "outputs": [],
   "source": [
    "def shuffle_dataset(x,y):\n",
    "    idx = np.arange(len(x))\n",
    "    np.random.shuffle(idx)\n",
    "    x = x[idx]\n",
    "    y = y[idx]\n",
    "    return x,y"
   ]
  },
  {
   "cell_type": "code",
   "execution_count": 33,
   "metadata": {},
   "outputs": [],
   "source": [
    "class alphanet_dataset(Dataset):\n",
    "    def __init__(self,data,label):\n",
    "        self.data = torch.from_numpy(data)\n",
    "        self.label = torch.from_numpy(label)\n",
    "    def __getitem__(self,index):\n",
    "        return self.data[index],self.label[index]\n",
    "    def __len__(self):\n",
    "        return len(self.data)"
   ]
  },
  {
   "cell_type": "code",
   "execution_count": 34,
   "metadata": {},
   "outputs": [],
   "source": [
    "def normalize_input(x):\n",
    "    mean = np.nanmean(x,axis=(3,4))[...,np.newaxis,np.newaxis]\n",
    "    std  = np.nanstd(x,axis=(3,4))[...,np.newaxis,np.newaxis]\n",
    "    norm = (x - mean) / (std + 1e-5)\n",
    "    return norm"
   ]
  },
  {
   "cell_type": "code",
   "execution_count": 35,
   "metadata": {},
   "outputs": [
    {
     "name": "stderr",
     "output_type": "stream",
     "text": [
      "c:\\vnstudio\\lib\\site-packages\\ipykernel_launcher.py:2: RuntimeWarning: Mean of empty slice\n",
      "  \n",
      "C:\\Users\\Administrator\\AppData\\Roaming\\Python\\Python37\\site-packages\\numpy\\lib\\nanfunctions.py:1671: RuntimeWarning: Degrees of freedom <= 0 for slice.\n",
      "  keepdims=keepdims)\n",
      "c:\\vnstudio\\lib\\site-packages\\ipykernel_launcher.py:5: RuntimeWarning: Mean of empty slice\n",
      "  \"\"\"\n"
     ]
    }
   ],
   "source": [
    "X_5, X_10, Y_5, Y_10, sample_date, ts_code_list = load_dataset()\n",
    "# normalize label\n",
    "# print(X_5[-3,500])\n",
    "X_5 = normalize_input(X_5)\n",
    "X_10 = normalize_input(X_10)\n",
    "Y_norm5  = normalize(Y_5)\n",
    "Y_norm10 = normalize(Y_10)\n",
    "dev_idx   = int(len(sample_date)*0.5)\n",
    "\n",
    "x_train5 = X_5[:dev_idx]\n",
    "y_train5 = Y_norm5[:dev_idx]\n",
    "x_train10 = X_10[:dev_idx]\n",
    "y_train10 = Y_norm10[:dev_idx]\n",
    "\n",
    "x_dev5 = X_5[dev_idx:]\n",
    "y_dev5 = Y_norm5[dev_idx:]\n",
    "x_dev10 = X_10[dev_idx:]\n",
    "y_dev10 = Y_norm10[dev_idx:]"
   ]
  },
  {
   "cell_type": "code",
   "execution_count": 36,
   "metadata": {},
   "outputs": [
    {
     "data": {
      "text/plain": [
       "(543, 583, 1, 9, 30)"
      ]
     },
     "execution_count": 36,
     "metadata": {},
     "output_type": "execute_result"
    }
   ],
   "source": [
    "X_5.shape"
   ]
  },
  {
   "cell_type": "code",
   "execution_count": 49,
   "metadata": {},
   "outputs": [],
   "source": [
    "def get_dataloader(x,y,shuffle):\n",
    "    # if shuffle:\n",
    "    #     x,y = shuffle_dataset(x,y)\n",
    "    x_,y_ = preprocess_input(x,y)\n",
    "    dataset = alphanet_dataset(x_,y_)\n",
    "    dataloader = DataLoader(dataset,batch_size=583*2,shuffle=False)\n",
    "    return dataloader"
   ]
  },
  {
   "cell_type": "code",
   "execution_count": 50,
   "metadata": {},
   "outputs": [],
   "source": [
    "# train dataloader\n",
    "tr_loader5   = get_dataloader(x_train5,y_train5,True)\n",
    "tr_loader10  = get_dataloader(x_train10,y_train10,True)\n",
    "\n",
    "dev_loader5  = get_dataloader(x_dev5,y_dev5,False)\n",
    "dev_loader10 = get_dataloader(x_dev10,y_dev10,False)\n",
    "\n",
    "# te_loader5,te_nan5   = get_dataloader(x_test5,y_test5,False)\n",
    "# te_loader10,te_nan10 = get_dataloader(x_test10,y_test10,False)\n"
   ]
  },
  {
   "cell_type": "code",
   "execution_count": 51,
   "metadata": {},
   "outputs": [],
   "source": [
    "wholeloader5 = get_dataloader(X_5,Y_norm5,False)\n",
    "wholeloader10 = get_dataloader(X_10,Y_norm10,False)"
   ]
  },
  {
   "cell_type": "code",
   "execution_count": 52,
   "metadata": {},
   "outputs": [],
   "source": [
    "# 2020年开始\n",
    "wholeloader2020 = get_dataloader(X_5[473:],Y_norm5[473:],False)"
   ]
  },
  {
   "cell_type": "code",
   "execution_count": 53,
   "metadata": {},
   "outputs": [],
   "source": [
    "class AlphaNet(nn.Module):\n",
    "    def __init__(self):\n",
    "        super(AlphaNet,self).__init__()\n",
    "        self.bn1 = nn.BatchNorm2d(117)\n",
    "        self.bn2 = nn.BatchNorm2d(351)\n",
    "\n",
    "        self.maxpool = nn.MaxPool2d(kernel_size=(1,3))\n",
    "        self.avgpool = nn.AvgPool2d(kernel_size=(1,3))\n",
    "        self.minpool = nn.MaxPool2d(kernel_size=(1,3))\n",
    "\n",
    "        self.flatten1 = nn.Flatten(start_dim=1)\n",
    "        self.flatten2 = nn.Flatten(start_dim=1)\n",
    "        self.fc      = nn.Linear(702,30)\n",
    "        self.dropout = nn.Dropout(0.5)\n",
    "        self.relu    = nn.ReLU()\n",
    "        self.output  = nn.Linear(30,1)\n",
    "        self._init_weight()\n",
    "\n",
    "    def _init_weight(self):\n",
    "        nn.init.trunc_normal_(self.fc.weight)\n",
    "        nn.init.trunc_normal_(self.output.weight)\n",
    "        nn.init.trunc_normal_(self.fc.bias)\n",
    "        nn.init.trunc_normal_(self.output.bias)\n",
    "\n",
    "    def forward(self,input_):\n",
    "        feature = self.bn1(input_)\n",
    "        maxpool = self.maxpool(feature)\n",
    "        avgpool = self.avgpool(feature)\n",
    "        minpool = -self.maxpool(-1*feature)\n",
    "        pool_feature = torch.cat((maxpool,avgpool,minpool),axis=1)\n",
    "        pool_feature = self.bn2(pool_feature)\n",
    "\n",
    "        feature_flatten      = self.flatten1(feature)\n",
    "        pool_feature_flatten = self.flatten2(pool_feature)\n",
    "        output_ = torch.hstack([feature_flatten,pool_feature_flatten])\n",
    "\n",
    "        output_       = self.fc(output_)\n",
    "        output_       = self.relu(output_)\n",
    "        output_       = self.dropout(output_)\n",
    "        output_       = self.output(output_)\n",
    "        return output_"
   ]
  },
  {
   "cell_type": "markdown",
   "metadata": {},
   "source": [
    "## Model Train & Test"
   ]
  },
  {
   "cell_type": "code",
   "execution_count": 54,
   "metadata": {},
   "outputs": [],
   "source": [
    "learning_rate        = 0.0001\n",
    "early_stopping       = 10\n",
    "\n",
    "device = \"cuda\" if torch.cuda.is_available() else \"cpu\"\n",
    "model = AlphaNet().to(device)\n",
    "loss_fn = nn.MSELoss()\n",
    "optimizer = torch.optim.RMSprop(model.parameters(),lr=learning_rate)"
   ]
  },
  {
   "cell_type": "markdown",
   "metadata": {},
   "source": [
    "## Training"
   ]
  },
  {
   "cell_type": "code",
   "execution_count": 55,
   "metadata": {},
   "outputs": [],
   "source": [
    "def train(trainloader, devloader, model, loss_fn, optimizer, path):\n",
    "\n",
    "    min_valid_loss = np.inf\n",
    "    cnt = 0\n",
    "    save_model = False\n",
    "    epochs = 400\n",
    "\n",
    "    train_loss_list = []\n",
    "    eval_loss_list = []\n",
    "    for epoch in range(epochs):\n",
    "        optimizer = torch.optim.RMSprop(model.parameters(),lr=0.00001)\n",
    "\n",
    "        print('\\nEpoch {} / {}'.format(epoch+1,epochs))\n",
    "        model.train()\n",
    "        train_loss = 0.0\n",
    "        for data,label in trainloader:\n",
    "            data = np.transpose(data,(0,2,1,3))\n",
    "            data,label = data.to(device),label.to(device) \n",
    "            pred = model(data.float())\n",
    "\n",
    "            loss = loss_fn(pred,label.float())\n",
    "            train_loss += loss\n",
    "            optimizer.zero_grad()\n",
    "            loss.backward()\n",
    "            optimizer.step()\n",
    "        train_loss_list.append(train_loss.item()/len(trainloader))\n",
    "        model.eval()\n",
    "        eval_loss = 0.0\n",
    "        for data,label in devloader:\n",
    "            data = np.transpose(data,(0,2,1,3))\n",
    "            data,label = data.to(device),label.to(device) \n",
    "            pred = model(data.float())\n",
    "            loss = loss_fn(pred,label.float())\n",
    "            eval_loss += loss\n",
    "        eval_loss_list.append(eval_loss.item()/len(devloader))\n",
    "        print('train loss: ', train_loss.item()/len(trainloader),'| dev loss: ', eval_loss.item()/len(devloader))\n",
    "        if eval_loss < min_valid_loss:\n",
    "            min_valid_loss = eval_loss\n",
    "            cnt = 0\n",
    "            print('save model')\n",
    "            torch.save(model.state_dict(), path)\n",
    "            save_model = True\n",
    "        # loss没有update, increment cnt\n",
    "        cnt += 1\n",
    "        if cnt >= early_stopping and save_model == True:\n",
    "            print('early stop')\n",
    "            break\n",
    "        elif cnt >= early_stopping and save_model == False:\n",
    "            print('early stop and save model')\n",
    "            torch.save(model.state_dict(),path)\n",
    "            save_model = True\n",
    "            break\n",
    "        \n",
    "    plt.figure(figsize=(20,12))\n",
    "    plt.plot(train_loss_list,label='train loss')\n",
    "    plt.plot(eval_loss_list,label='dev loss')\n",
    "    plt.legend()"
   ]
  },
  {
   "cell_type": "code",
   "execution_count": 56,
   "metadata": {},
   "outputs": [],
   "source": [
    "# train(x_tr5,y_tr5,model,loss_fn,optimizer)\n",
    "path = './model_param.pth'\n",
    "path5 = './model_param5.pth'\n",
    "path10 = './model_param10.pth'\n",
    "\n",
    "good_model_path = './model_param_v2.pth'"
   ]
  },
  {
   "cell_type": "code",
   "execution_count": 57,
   "metadata": {},
   "outputs": [
    {
     "name": "stdout",
     "output_type": "stream",
     "text": [
      "\n",
      "Epoch 1 / 400\n"
     ]
    },
    {
     "ename": "RuntimeError",
     "evalue": "CUDA out of memory. Tried to allocate 20.00 MiB (GPU 0; 4.00 GiB total capacity; 2.99 GiB already allocated; 0 bytes free; 3.44 GiB reserved in total by PyTorch) If reserved memory is >> allocated memory try setting max_split_size_mb to avoid fragmentation.  See documentation for Memory Management and PYTORCH_CUDA_ALLOC_CONF",
     "output_type": "error",
     "traceback": [
      "\u001b[1;31m---------------------------------------------------------------------------\u001b[0m",
      "\u001b[1;31mRuntimeError\u001b[0m                              Traceback (most recent call last)",
      "\u001b[1;32m<ipython-input-57-0c4a65208e10>\u001b[0m in \u001b[0;36m<module>\u001b[1;34m\u001b[0m\n\u001b[1;32m----> 1\u001b[1;33m \u001b[0mtrain\u001b[0m\u001b[1;33m(\u001b[0m\u001b[0mtr_loader5\u001b[0m\u001b[1;33m,\u001b[0m\u001b[0mdev_loader5\u001b[0m\u001b[1;33m,\u001b[0m\u001b[0mmodel\u001b[0m\u001b[1;33m,\u001b[0m\u001b[0mloss_fn\u001b[0m\u001b[1;33m,\u001b[0m\u001b[0moptimizer\u001b[0m\u001b[1;33m,\u001b[0m\u001b[0mpath5\u001b[0m\u001b[1;33m)\u001b[0m\u001b[1;33m\u001b[0m\u001b[1;33m\u001b[0m\u001b[0m\n\u001b[0m",
      "\u001b[1;32m<ipython-input-55-8bfea0f3309b>\u001b[0m in \u001b[0;36mtrain\u001b[1;34m(trainloader, devloader, model, loss_fn, optimizer, path)\u001b[0m\n\u001b[0;32m     16\u001b[0m         \u001b[1;32mfor\u001b[0m \u001b[0mdata\u001b[0m\u001b[1;33m,\u001b[0m\u001b[0mlabel\u001b[0m \u001b[1;32min\u001b[0m \u001b[0mtrainloader\u001b[0m\u001b[1;33m:\u001b[0m\u001b[1;33m\u001b[0m\u001b[1;33m\u001b[0m\u001b[0m\n\u001b[0;32m     17\u001b[0m             \u001b[0mdata\u001b[0m \u001b[1;33m=\u001b[0m \u001b[0mnp\u001b[0m\u001b[1;33m.\u001b[0m\u001b[0mtranspose\u001b[0m\u001b[1;33m(\u001b[0m\u001b[0mdata\u001b[0m\u001b[1;33m,\u001b[0m\u001b[1;33m(\u001b[0m\u001b[1;36m0\u001b[0m\u001b[1;33m,\u001b[0m\u001b[1;36m2\u001b[0m\u001b[1;33m,\u001b[0m\u001b[1;36m1\u001b[0m\u001b[1;33m,\u001b[0m\u001b[1;36m3\u001b[0m\u001b[1;33m)\u001b[0m\u001b[1;33m)\u001b[0m\u001b[1;33m\u001b[0m\u001b[1;33m\u001b[0m\u001b[0m\n\u001b[1;32m---> 18\u001b[1;33m             \u001b[0mdata\u001b[0m\u001b[1;33m,\u001b[0m\u001b[0mlabel\u001b[0m \u001b[1;33m=\u001b[0m \u001b[0mdata\u001b[0m\u001b[1;33m.\u001b[0m\u001b[0mto\u001b[0m\u001b[1;33m(\u001b[0m\u001b[0mdevice\u001b[0m\u001b[1;33m)\u001b[0m\u001b[1;33m,\u001b[0m\u001b[0mlabel\u001b[0m\u001b[1;33m.\u001b[0m\u001b[0mto\u001b[0m\u001b[1;33m(\u001b[0m\u001b[0mdevice\u001b[0m\u001b[1;33m)\u001b[0m\u001b[1;33m\u001b[0m\u001b[1;33m\u001b[0m\u001b[0m\n\u001b[0m\u001b[0;32m     19\u001b[0m             \u001b[0mpred\u001b[0m \u001b[1;33m=\u001b[0m \u001b[0mmodel\u001b[0m\u001b[1;33m(\u001b[0m\u001b[0mdata\u001b[0m\u001b[1;33m.\u001b[0m\u001b[0mfloat\u001b[0m\u001b[1;33m(\u001b[0m\u001b[1;33m)\u001b[0m\u001b[1;33m)\u001b[0m\u001b[1;33m\u001b[0m\u001b[1;33m\u001b[0m\u001b[0m\n\u001b[0;32m     20\u001b[0m \u001b[1;33m\u001b[0m\u001b[0m\n",
      "\u001b[1;31mRuntimeError\u001b[0m: CUDA out of memory. Tried to allocate 20.00 MiB (GPU 0; 4.00 GiB total capacity; 2.99 GiB already allocated; 0 bytes free; 3.44 GiB reserved in total by PyTorch) If reserved memory is >> allocated memory try setting max_split_size_mb to avoid fragmentation.  See documentation for Memory Management and PYTORCH_CUDA_ALLOC_CONF"
     ]
    }
   ],
   "source": [
    "train(tr_loader5,dev_loader5,model,loss_fn,optimizer,path5)"
   ]
  },
  {
   "cell_type": "code",
   "execution_count": null,
   "metadata": {},
   "outputs": [],
   "source": [
    "from torchsummary import summary\n",
    "# summary(model,( 117,1, 3))\n",
    "# model.fc.weight.grad#, model.output.weight.grad"
   ]
  },
  {
   "cell_type": "markdown",
   "metadata": {},
   "source": [
    "## Testing"
   ]
  },
  {
   "cell_type": "code",
   "execution_count": null,
   "metadata": {},
   "outputs": [],
   "source": [
    "def layering(alpha,origin, sample_date):\n",
    "    layer_size = 5\n",
    "    layer=[[] for i in range(layer_size)]\n",
    "    alpha = np.nan_to_num(alpha)\n",
    "    for i in range(len(alpha)):\n",
    "        alpha_daily = pd.DataFrame(alpha[i,...],columns=['return']) # 每天每股因子值\n",
    "        alpha_daily = alpha_daily.sort_values(by='return',ascending=False,na_position='last') # 按照因子值排序\n",
    "        rank_idx = list(alpha_daily.index)\n",
    "        return_daily = pd.DataFrame(origin[i,...],columns=['return'])\n",
    "        return_daily = return_daily.reindex(rank_idx)\n",
    "        return_daily_cent = return_daily - return_daily.mean()\n",
    "        split = np.array_split(return_daily_cent,layer_size) # 分层\n",
    "        for j in range(layer_size):\n",
    "            mean_ = split[j]['return'].mean()\n",
    "            layer[j].append(mean_)\n",
    "\n",
    "    for i in range(layer_size):\n",
    "        layer[i] = np.nancumsum(layer[i])\n",
    "    plt.figure(figsize=(20,10))\n",
    "    plt.plot(sample_date,layer[0],label = \"top\")\n",
    "    # plt.plot(sample_date,layer[1],label = \"m1\")\n",
    "    # plt.plot(sample_date,layer[2],label = \"m2\")\n",
    "    # plt.plot(sample_date,layer[3],label = \"m3\")\n",
    "    plt.plot(sample_date,layer[4],label = \"bot\")\n",
    "    plt.legend()\n",
    "    return\n",
    "\n",
    "def RankIC_mean_std(original,pred,sample_date):\n",
    "    rankic = []\n",
    "    for i in range(len(original)): # 每个截面\n",
    "        ori_cross = original[i]\n",
    "        pred_cross = pred[i]\n",
    "        rankic.append(pd.DataFrame([ori_cross.reshape(-1),pred_cross.reshape(-1)]).T.corr(method='spearman').iloc[0,1])\n",
    "    rankic_mean = np.nanmean(rankic)\n",
    "    rankic_std = np.nanstd(rankic)\n",
    "    rankic_cumsum = np.nancumsum(rankic)\n",
    "    plt.figure(figsize=(20,10))\n",
    "    plt.plot(sample_date,rankic_cumsum,label='rankic')\n",
    "    plt.legend()\n",
    "    return rankic_mean,rankic_std,rankic_cumsum"
   ]
  },
  {
   "cell_type": "code",
   "execution_count": null,
   "metadata": {},
   "outputs": [],
   "source": [
    "def test(testloader,origin,sample_date,model, loss_fn):\n",
    "    model.eval()\n",
    "    test_loss_list = []\n",
    "    alpha = []\n",
    "    with torch.no_grad():\n",
    "        test_loss = 0.0\n",
    "        for data,label in testloader:\n",
    "            data = np.transpose(data,(0,2,1,3))\n",
    "            data,label = data.to(device),label.to(device) \n",
    "            pred = model(data.float())\n",
    "            loss = loss_fn(pred,label.float())\n",
    "            test_loss += loss\n",
    "            alpha.append(pred.cpu().numpy())\n",
    "            return_layer = {\n",
    "                'bn1':'bn1',\n",
    "                'bn2':'bn2',\n",
    "                'flatten1':'flatten1',\n",
    "                'flatten2':'flatten2',\n",
    "                'fc':'fc',\n",
    "                # 'relu':'relu',\n",
    "                # 'output':'output'\n",
    "            }\n",
    "            mid_getter = MidGetter(model,return_layers=return_layer,keep_output=True)\n",
    "            mid_outputs, model_output = mid_getter(data.float())\n",
    "            # print(mid_outputs['bn1'][:,0,:,:].nanmean())\n",
    "            # print(mid_outputs['flatten2'].shape)\n",
    "            # print(mid_outputs['fc'].shape)\n",
    "            # print(model_output)\n",
    "        test_loss_list.append(test_loss.item()/len(testloader))\n",
    "        print('test loss: ', test_loss.item()/len(testloader))\n",
    "    arr = np.vstack(alpha)\n",
    "    # pred = reconstruct_alpha(arr,origin,nan_pair)\n",
    "    pred = np.reshape(arr,(-1,583,1))\n",
    "    rankic_mean,rankic_std,rankic_cumsum = RankIC_mean_std(origin,pred,sample_date)\n",
    "    print('RankIC mean: {} | RankIC std {}'.format(rankic_mean,rankic_std))\n",
    "    layering(pred,origin, sample_date)"
   ]
  },
  {
   "cell_type": "markdown",
   "metadata": {},
   "source": [
    "## test for 5天调仓周期"
   ]
  },
  {
   "cell_type": "code",
   "execution_count": null,
   "metadata": {},
   "outputs": [
    {
     "name": "stdout",
     "output_type": "stream",
     "text": [
      "test loss:  1.4322370228014494\n",
      "RankIC mean: 0.09871033400547406 | RankIC std 0.11650199936952975\n"
     ]
    },
    {
     "data": {
      "image/png": "[encoded data removed]",
      "text/plain": [
       "<Figure size 1440x720 with 1 Axes>"
      ]
     },
     "metadata": {
      "needs_background": "light"
     },
     "output_type": "display_data"
    },
    {
     "data": {
      "image/png": "[encoded data removed]",
      "text/plain": [
       "<Figure size 1440x720 with 1 Axes>"
      ]
     },
     "metadata": {
      "needs_background": "light"
     },
     "output_type": "display_data"
    }
   ],
   "source": [
    "# model.load_state_dict(torch.load('./model_rankic_correct.pth'))\n",
    "model.load_state_dict(torch.load(path5))\n",
    "\n",
    "# test(te_loader5,Y_5[test_idx:],te_nan5,sample_date[test_idx:],model,loss_fn)\n",
    "test(wholeloader2020,Y_5[473:],sample_date[473:],model,loss_fn)\n",
    "# test(wholeloader5,Y_5,sample_date,model,loss_fn)"
   ]
  },
  {
   "cell_type": "code",
   "execution_count": null,
   "metadata": {},
   "outputs": [],
   "source": [
    "model.load_state_dict(torch.load(path5))\n",
    "test(wholeloader5,Y_5,sample_date,model,loss_fn)"
   ]
  },
  {
   "cell_type": "code",
   "execution_count": null,
   "metadata": {},
   "outputs": [],
   "source": [
    "model.load_state_dict(torch.load('./model_rankic_correct.pth'))\n",
    "param_dict = {}\n",
    "for name,param in model.named_parameters():\n",
    "    if param.requires_grad:\n",
    "        param_dict[name] = param.data"
   ]
  },
  {
   "cell_type": "code",
   "execution_count": null,
   "metadata": {},
   "outputs": [],
   "source": [
    "def batchnorm(x,param_dict,model):\n",
    "    x = x.cpu().numpy()\n",
    "    channel_mean = np.nanmean(x,axis=(0,2,3)).reshape(-1,1)\n",
    "    channel_std  = np.nanstd(x,axis=(0,2,3)).reshape(-1,1)\n",
    "    # channel_var = np.power(np.nanstd(x,axis=(0,2,3)),2)\n",
    "    bn1_weight = param_dict['bn1.weight'].cpu().numpy().reshape(-1,1) # 117\n",
    "    bn1_bias = param_dict['bn1.bias'].cpu().numpy().reshape(-1,1)     # 117\n",
    "    bn = ((np.squeeze(x)-channel_mean) /(channel_std+1e-5)) * bn1_weight + bn1_bias\n",
    "    # bn = ((np.squeeze(x)-model.bn1.running_mean.cpu().numpy().reshape(-1,1)) /(np.power(model.bn1.running_var.cpu().numpy().reshape(-1,1),0.5)+1e-5)) * bn1_weight + bn1_bias\n",
    "    return bn"
   ]
  },
  {
   "cell_type": "code",
   "execution_count": null,
   "metadata": {},
   "outputs": [
    {
     "name": "stderr",
     "output_type": "stream",
     "text": [
      "c:\\vnstudio\\lib\\site-packages\\ipykernel_launcher.py:14: RuntimeWarning: Mean of empty slice\n",
      "  \n"
     ]
    },
    {
     "data": {
      "image/png": "[encoded data removed]",
      "text/plain": [
       "<Figure size 1440x720 with 1 Axes>"
      ]
     },
     "metadata": {
      "needs_background": "light"
     },
     "output_type": "display_data"
    }
   ],
   "source": [
    "def test_(x,model,loss_fn):\n",
    "    model.eval()\n",
    "    alpha_list = []\n",
    "    with torch.no_grad():\n",
    "        x = np.transpose(x,(0,2,1,3))\n",
    "        x = torch.from_numpy(x)\n",
    "        x = x.to(device)\n",
    "        pred = model(x.float())\n",
    "        alpha_list.append(pred.cpu().numpy())\n",
    "    alpha = np.vstack(alpha_list)\n",
    "    # print(alpha)\n",
    "    test_layering(alpha)\n",
    "    return \n",
    "# model.load_state_dict(torch.load(good_model_path))\n",
    "model.eval()\n",
    "x829  = np.load('x829.npy')\n",
    "# x92 = X_5[-3]\n",
    "# x92 = x92[np.newaxis,...]\n",
    "# print(x92.shape)\n",
    "\n",
    "# y92  = np.load('y92.npy')\n",
    "x829 = x829[np.newaxis,:,np.newaxis,1:,:]\n",
    "# print(x92[0,500])\n",
    "\n",
    "x829 = normalize_input(x829)\n",
    "# x724 = normalize_input(X_5[-3][np.newaxis,...])\n",
    "# diff_idx = (X_5[-3][np.newaxis,...] != x724).nonzero()\n",
    "# diff = list(np.setdiff1d(x724.reshape(-1),X_5[-3].reshape(-1)))\n",
    "# # print(len(diff))\n",
    "# diff_pair = [p for p in zip(diff_idx[0],diff_idx[1],diff_idx[2],diff_idx[3]) if None not in p]\n",
    "# diff_pair = list(set(diff_pair))\n",
    "# print(diff_pair)\n",
    "\n",
    "# y92 = y92[np.newaxis,...]\n",
    "x_feature = feature_extract(x829)\n",
    "x_feature = np.reshape(x_feature,(-1,1,117,3))\n",
    "test_(x_feature,model,loss_fn)\n",
    "x = torch.from_numpy(x_feature)\n",
    "x = np.transpose(x,(0,2,1,3))\n",
    "x = x.to(device)\n",
    "return_layer = { ## layer to read\n",
    "    'bn1':'bn1',\n",
    "    'bn2':'bn2',\n",
    "    'maxpool':'maxpool',\n",
    "    'avgpool':'avgpool',\n",
    "    'minpool':'minpool',\n",
    "    'flatten1':'flatten1',\n",
    "    'flatten2':'flatten2',\n",
    "    'fc':'fc',\n",
    "    'relu':'relu',\n",
    "    'output':'output'\n",
    "}\n",
    "# # 得到中间layer的结果\n",
    "mid_getter = MidGetter(model,return_layers=return_layer,keep_output=True)\n",
    "mid_outputs, model_output = mid_getter(x.float())\n",
    "# flatten_layer = torch.cat((mid_outputs['flatten1'],mid_outputs['flatten2']),axis=1)\n",
    "# fc_layer = torch.inner(flatten_layer,param_dict['fc.weight'])# + param_dict['fc.bias']"
   ]
  },
  {
   "cell_type": "code",
   "execution_count": null,
   "metadata": {},
   "outputs": [
    {
     "data": {
      "text/plain": [
       "datetime.datetime(2020, 7, 24, 0, 0)"
      ]
     },
     "execution_count": 311,
     "metadata": {},
     "output_type": "execute_result"
    }
   ],
   "source": [
    "x5tmp = X_5[-3][np.newaxis,...]\n",
    "# for i in range(len(diff_pair)):\n",
    "    \n",
    "#     print(i,x5tmp[diff_pair[i]],x724[diff_pair[i]])\n",
    "# X_5[-3].shape,x724[0].shape\n",
    "# diff_pair[107]"
   ]
  },
  {
   "cell_type": "code",
   "execution_count": null,
   "metadata": {},
   "outputs": [
    {
     "data": {
      "text/html": [
       "<div>\n",
       "<style scoped>\n",
       "    .dataframe tbody tr th:only-of-type {\n",
       "        vertical-align: middle;\n",
       "    }\n",
       "\n",
       "    .dataframe tbody tr th {\n",
       "        vertical-align: top;\n",
       "    }\n",
       "\n",
       "    .dataframe thead th {\n",
       "        text-align: right;\n",
       "    }\n",
       "</style>\n",
       "<table border=\"1\" class=\"dataframe\">\n",
       "  <thead>\n",
       "    <tr style=\"text-align: right;\">\n",
       "      <th></th>\n",
       "      <th>0</th>\n",
       "      <th>1</th>\n",
       "      <th>2</th>\n",
       "      <th>3</th>\n",
       "      <th>4</th>\n",
       "      <th>5</th>\n",
       "      <th>6</th>\n",
       "      <th>7</th>\n",
       "      <th>8</th>\n",
       "    </tr>\n",
       "  </thead>\n",
       "  <tbody>\n",
       "    <tr>\n",
       "      <th>0</th>\n",
       "      <td>4.11</td>\n",
       "      <td>4.14</td>\n",
       "      <td>4.04</td>\n",
       "      <td>4.06</td>\n",
       "      <td>4.077769</td>\n",
       "      <td>17872080.0</td>\n",
       "      <td>0.000000</td>\n",
       "      <td>0.010914</td>\n",
       "      <td>0.011669</td>\n",
       "    </tr>\n",
       "    <tr>\n",
       "      <th>1</th>\n",
       "      <td>4.10</td>\n",
       "      <td>4.15</td>\n",
       "      <td>4.05</td>\n",
       "      <td>4.06</td>\n",
       "      <td>4.081959</td>\n",
       "      <td>9543113.0</td>\n",
       "      <td>0.000000</td>\n",
       "      <td>0.005828</td>\n",
       "      <td>0.006231</td>\n",
       "    </tr>\n",
       "    <tr>\n",
       "      <th>2</th>\n",
       "      <td>4.10</td>\n",
       "      <td>4.13</td>\n",
       "      <td>4.04</td>\n",
       "      <td>4.06</td>\n",
       "      <td>4.079227</td>\n",
       "      <td>14494916.0</td>\n",
       "      <td>0.000000</td>\n",
       "      <td>0.008852</td>\n",
       "      <td>0.009464</td>\n",
       "    </tr>\n",
       "    <tr>\n",
       "      <th>3</th>\n",
       "      <td>4.02</td>\n",
       "      <td>4.10</td>\n",
       "      <td>3.98</td>\n",
       "      <td>4.06</td>\n",
       "      <td>4.063407</td>\n",
       "      <td>13239127.0</td>\n",
       "      <td>-0.009852</td>\n",
       "      <td>0.008085</td>\n",
       "      <td>0.008644</td>\n",
       "    </tr>\n",
       "    <tr>\n",
       "      <th>4</th>\n",
       "      <td>4.08</td>\n",
       "      <td>4.10</td>\n",
       "      <td>4.02</td>\n",
       "      <td>4.02</td>\n",
       "      <td>4.044300</td>\n",
       "      <td>9006903.0</td>\n",
       "      <td>0.012438</td>\n",
       "      <td>0.005500</td>\n",
       "      <td>0.005881</td>\n",
       "    </tr>\n",
       "    <tr>\n",
       "      <th>5</th>\n",
       "      <td>4.05</td>\n",
       "      <td>4.09</td>\n",
       "      <td>4.05</td>\n",
       "      <td>4.07</td>\n",
       "      <td>4.066762</td>\n",
       "      <td>9414171.0</td>\n",
       "      <td>-0.004914</td>\n",
       "      <td>0.005749</td>\n",
       "      <td>0.006147</td>\n",
       "    </tr>\n",
       "    <tr>\n",
       "      <th>6</th>\n",
       "      <td>4.05</td>\n",
       "      <td>4.07</td>\n",
       "      <td>3.98</td>\n",
       "      <td>4.05</td>\n",
       "      <td>4.030943</td>\n",
       "      <td>11796314.0</td>\n",
       "      <td>0.002469</td>\n",
       "      <td>0.007204</td>\n",
       "      <td>0.007702</td>\n",
       "    </tr>\n",
       "    <tr>\n",
       "      <th>7</th>\n",
       "      <td>4.06</td>\n",
       "      <td>4.08</td>\n",
       "      <td>4.02</td>\n",
       "      <td>4.06</td>\n",
       "      <td>4.050609</td>\n",
       "      <td>8644420.0</td>\n",
       "      <td>0.007389</td>\n",
       "      <td>0.005279</td>\n",
       "      <td>0.005644</td>\n",
       "    </tr>\n",
       "    <tr>\n",
       "      <th>8</th>\n",
       "      <td>4.04</td>\n",
       "      <td>4.09</td>\n",
       "      <td>4.04</td>\n",
       "      <td>4.09</td>\n",
       "      <td>4.066936</td>\n",
       "      <td>12609606.0</td>\n",
       "      <td>-0.022005</td>\n",
       "      <td>0.007700</td>\n",
       "      <td>0.008233</td>\n",
       "    </tr>\n",
       "    <tr>\n",
       "      <th>9</th>\n",
       "      <td>4.09</td>\n",
       "      <td>4.13</td>\n",
       "      <td>3.99</td>\n",
       "      <td>4.00</td>\n",
       "      <td>4.052745</td>\n",
       "      <td>16522118.0</td>\n",
       "      <td>0.000000</td>\n",
       "      <td>0.010090</td>\n",
       "      <td>0.010788</td>\n",
       "    </tr>\n",
       "    <tr>\n",
       "      <th>10</th>\n",
       "      <td>4.03</td>\n",
       "      <td>4.05</td>\n",
       "      <td>3.97</td>\n",
       "      <td>4.00</td>\n",
       "      <td>3.999123</td>\n",
       "      <td>11422048.0</td>\n",
       "      <td>-0.010000</td>\n",
       "      <td>0.006975</td>\n",
       "      <td>0.007458</td>\n",
       "    </tr>\n",
       "    <tr>\n",
       "      <th>11</th>\n",
       "      <td>4.01</td>\n",
       "      <td>4.03</td>\n",
       "      <td>3.96</td>\n",
       "      <td>3.96</td>\n",
       "      <td>3.984874</td>\n",
       "      <td>8106967.0</td>\n",
       "      <td>-0.022727</td>\n",
       "      <td>0.004951</td>\n",
       "      <td>0.005293</td>\n",
       "    </tr>\n",
       "    <tr>\n",
       "      <th>12</th>\n",
       "      <td>3.96</td>\n",
       "      <td>3.97</td>\n",
       "      <td>3.84</td>\n",
       "      <td>3.87</td>\n",
       "      <td>3.895048</td>\n",
       "      <td>12934839.0</td>\n",
       "      <td>0.000000</td>\n",
       "      <td>0.007899</td>\n",
       "      <td>0.008446</td>\n",
       "    </tr>\n",
       "    <tr>\n",
       "      <th>13</th>\n",
       "      <td>3.90</td>\n",
       "      <td>3.90</td>\n",
       "      <td>3.85</td>\n",
       "      <td>3.87</td>\n",
       "      <td>3.868815</td>\n",
       "      <td>12901040.0</td>\n",
       "      <td>-0.005168</td>\n",
       "      <td>0.007878</td>\n",
       "      <td>0.008424</td>\n",
       "    </tr>\n",
       "    <tr>\n",
       "      <th>14</th>\n",
       "      <td>3.90</td>\n",
       "      <td>3.90</td>\n",
       "      <td>3.83</td>\n",
       "      <td>3.85</td>\n",
       "      <td>3.858038</td>\n",
       "      <td>14102873.0</td>\n",
       "      <td>0.028571</td>\n",
       "      <td>0.008612</td>\n",
       "      <td>0.009208</td>\n",
       "    </tr>\n",
       "    <tr>\n",
       "      <th>15</th>\n",
       "      <td>3.86</td>\n",
       "      <td>3.96</td>\n",
       "      <td>3.83</td>\n",
       "      <td>3.96</td>\n",
       "      <td>3.899034</td>\n",
       "      <td>20678911.0</td>\n",
       "      <td>0.101010</td>\n",
       "      <td>0.012628</td>\n",
       "      <td>0.013502</td>\n",
       "    </tr>\n",
       "    <tr>\n",
       "      <th>16</th>\n",
       "      <td>4.05</td>\n",
       "      <td>4.36</td>\n",
       "      <td>4.01</td>\n",
       "      <td>4.36</td>\n",
       "      <td>4.232035</td>\n",
       "      <td>78833016.0</td>\n",
       "      <td>0.061927</td>\n",
       "      <td>0.048141</td>\n",
       "      <td>0.051473</td>\n",
       "    </tr>\n",
       "    <tr>\n",
       "      <th>17</th>\n",
       "      <td>4.55</td>\n",
       "      <td>4.80</td>\n",
       "      <td>4.31</td>\n",
       "      <td>4.63</td>\n",
       "      <td>4.595914</td>\n",
       "      <td>98854089.0</td>\n",
       "      <td>0.017279</td>\n",
       "      <td>0.060367</td>\n",
       "      <td>0.064545</td>\n",
       "    </tr>\n",
       "    <tr>\n",
       "      <th>18</th>\n",
       "      <td>4.63</td>\n",
       "      <td>4.80</td>\n",
       "      <td>4.51</td>\n",
       "      <td>4.71</td>\n",
       "      <td>4.689977</td>\n",
       "      <td>70581512.0</td>\n",
       "      <td>0.033970</td>\n",
       "      <td>0.043102</td>\n",
       "      <td>0.046085</td>\n",
       "    </tr>\n",
       "    <tr>\n",
       "      <th>19</th>\n",
       "      <td>4.67</td>\n",
       "      <td>4.94</td>\n",
       "      <td>4.65</td>\n",
       "      <td>4.87</td>\n",
       "      <td>4.849767</td>\n",
       "      <td>59216367.0</td>\n",
       "      <td>0.000000</td>\n",
       "      <td>0.036162</td>\n",
       "      <td>0.038664</td>\n",
       "    </tr>\n",
       "    <tr>\n",
       "      <th>20</th>\n",
       "      <td>4.84</td>\n",
       "      <td>4.95</td>\n",
       "      <td>4.81</td>\n",
       "      <td>4.87</td>\n",
       "      <td>4.879802</td>\n",
       "      <td>46811962.0</td>\n",
       "      <td>0.000000</td>\n",
       "      <td>0.028587</td>\n",
       "      <td>0.030565</td>\n",
       "    </tr>\n",
       "    <tr>\n",
       "      <th>21</th>\n",
       "      <td>4.89</td>\n",
       "      <td>5.13</td>\n",
       "      <td>4.82</td>\n",
       "      <td>4.87</td>\n",
       "      <td>4.941834</td>\n",
       "      <td>62807030.0</td>\n",
       "      <td>0.039014</td>\n",
       "      <td>0.038354</td>\n",
       "      <td>0.041009</td>\n",
       "    </tr>\n",
       "    <tr>\n",
       "      <th>22</th>\n",
       "      <td>4.89</td>\n",
       "      <td>5.10</td>\n",
       "      <td>4.88</td>\n",
       "      <td>5.06</td>\n",
       "      <td>5.000056</td>\n",
       "      <td>46884257.0</td>\n",
       "      <td>-0.007905</td>\n",
       "      <td>0.028631</td>\n",
       "      <td>0.030612</td>\n",
       "    </tr>\n",
       "    <tr>\n",
       "      <th>23</th>\n",
       "      <td>5.11</td>\n",
       "      <td>5.19</td>\n",
       "      <td>4.95</td>\n",
       "      <td>5.02</td>\n",
       "      <td>5.054991</td>\n",
       "      <td>49111477.0</td>\n",
       "      <td>-0.037849</td>\n",
       "      <td>0.029991</td>\n",
       "      <td>0.032067</td>\n",
       "    </tr>\n",
       "    <tr>\n",
       "      <th>24</th>\n",
       "      <td>5.08</td>\n",
       "      <td>5.25</td>\n",
       "      <td>4.82</td>\n",
       "      <td>4.83</td>\n",
       "      <td>5.027431</td>\n",
       "      <td>79908379.0</td>\n",
       "      <td>-0.012422</td>\n",
       "      <td>0.048798</td>\n",
       "      <td>0.052175</td>\n",
       "    </tr>\n",
       "    <tr>\n",
       "      <th>25</th>\n",
       "      <td>4.92</td>\n",
       "      <td>5.15</td>\n",
       "      <td>4.73</td>\n",
       "      <td>4.77</td>\n",
       "      <td>4.967387</td>\n",
       "      <td>72655536.0</td>\n",
       "      <td>-0.025157</td>\n",
       "      <td>0.044368</td>\n",
       "      <td>0.047439</td>\n",
       "    </tr>\n",
       "    <tr>\n",
       "      <th>26</th>\n",
       "      <td>4.76</td>\n",
       "      <td>4.82</td>\n",
       "      <td>4.56</td>\n",
       "      <td>4.65</td>\n",
       "      <td>4.650452</td>\n",
       "      <td>51867642.0</td>\n",
       "      <td>0.098925</td>\n",
       "      <td>0.031674</td>\n",
       "      <td>0.033866</td>\n",
       "    </tr>\n",
       "    <tr>\n",
       "      <th>27</th>\n",
       "      <td>4.69</td>\n",
       "      <td>5.12</td>\n",
       "      <td>4.69</td>\n",
       "      <td>5.11</td>\n",
       "      <td>5.026958</td>\n",
       "      <td>87075347.0</td>\n",
       "      <td>0.000000</td>\n",
       "      <td>0.053174</td>\n",
       "      <td>0.056855</td>\n",
       "    </tr>\n",
       "    <tr>\n",
       "      <th>28</th>\n",
       "      <td>5.13</td>\n",
       "      <td>5.15</td>\n",
       "      <td>5.02</td>\n",
       "      <td>5.11</td>\n",
       "      <td>5.091945</td>\n",
       "      <td>43741822.0</td>\n",
       "      <td>0.029354</td>\n",
       "      <td>0.026712</td>\n",
       "      <td>0.028561</td>\n",
       "    </tr>\n",
       "    <tr>\n",
       "      <th>29</th>\n",
       "      <td>5.15</td>\n",
       "      <td>5.42</td>\n",
       "      <td>5.04</td>\n",
       "      <td>5.26</td>\n",
       "      <td>5.252883</td>\n",
       "      <td>67321603.0</td>\n",
       "      <td>-0.003802</td>\n",
       "      <td>0.041111</td>\n",
       "      <td>0.043957</td>\n",
       "    </tr>\n",
       "  </tbody>\n",
       "</table>\n",
       "</div>"
      ],
      "text/plain": [
       "       0     1     2     3         4           5         6         7         8\n",
       "0   4.11  4.14  4.04  4.06  4.077769  17872080.0  0.000000  0.010914  0.011669\n",
       "1   4.10  4.15  4.05  4.06  4.081959   9543113.0  0.000000  0.005828  0.006231\n",
       "2   4.10  4.13  4.04  4.06  4.079227  14494916.0  0.000000  0.008852  0.009464\n",
       "3   4.02  4.10  3.98  4.06  4.063407  13239127.0 -0.009852  0.008085  0.008644\n",
       "4   4.08  4.10  4.02  4.02  4.044300   9006903.0  0.012438  0.005500  0.005881\n",
       "5   4.05  4.09  4.05  4.07  4.066762   9414171.0 -0.004914  0.005749  0.006147\n",
       "6   4.05  4.07  3.98  4.05  4.030943  11796314.0  0.002469  0.007204  0.007702\n",
       "7   4.06  4.08  4.02  4.06  4.050609   8644420.0  0.007389  0.005279  0.005644\n",
       "8   4.04  4.09  4.04  4.09  4.066936  12609606.0 -0.022005  0.007700  0.008233\n",
       "9   4.09  4.13  3.99  4.00  4.052745  16522118.0  0.000000  0.010090  0.010788\n",
       "10  4.03  4.05  3.97  4.00  3.999123  11422048.0 -0.010000  0.006975  0.007458\n",
       "11  4.01  4.03  3.96  3.96  3.984874   8106967.0 -0.022727  0.004951  0.005293\n",
       "12  3.96  3.97  3.84  3.87  3.895048  12934839.0  0.000000  0.007899  0.008446\n",
       "13  3.90  3.90  3.85  3.87  3.868815  12901040.0 -0.005168  0.007878  0.008424\n",
       "14  3.90  3.90  3.83  3.85  3.858038  14102873.0  0.028571  0.008612  0.009208\n",
       "15  3.86  3.96  3.83  3.96  3.899034  20678911.0  0.101010  0.012628  0.013502\n",
       "16  4.05  4.36  4.01  4.36  4.232035  78833016.0  0.061927  0.048141  0.051473\n",
       "17  4.55  4.80  4.31  4.63  4.595914  98854089.0  0.017279  0.060367  0.064545\n",
       "18  4.63  4.80  4.51  4.71  4.689977  70581512.0  0.033970  0.043102  0.046085\n",
       "19  4.67  4.94  4.65  4.87  4.849767  59216367.0  0.000000  0.036162  0.038664\n",
       "20  4.84  4.95  4.81  4.87  4.879802  46811962.0  0.000000  0.028587  0.030565\n",
       "21  4.89  5.13  4.82  4.87  4.941834  62807030.0  0.039014  0.038354  0.041009\n",
       "22  4.89  5.10  4.88  5.06  5.000056  46884257.0 -0.007905  0.028631  0.030612\n",
       "23  5.11  5.19  4.95  5.02  5.054991  49111477.0 -0.037849  0.029991  0.032067\n",
       "24  5.08  5.25  4.82  4.83  5.027431  79908379.0 -0.012422  0.048798  0.052175\n",
       "25  4.92  5.15  4.73  4.77  4.967387  72655536.0 -0.025157  0.044368  0.047439\n",
       "26  4.76  4.82  4.56  4.65  4.650452  51867642.0  0.098925  0.031674  0.033866\n",
       "27  4.69  5.12  4.69  5.11  5.026958  87075347.0  0.000000  0.053174  0.056855\n",
       "28  5.13  5.15  5.02  5.11  5.091945  43741822.0  0.029354  0.026712  0.028561\n",
       "29  5.15  5.42  5.04  5.26  5.252883  67321603.0 -0.003802  0.041111  0.043957"
      ]
     },
     "execution_count": 313,
     "metadata": {},
     "output_type": "execute_result"
    }
   ],
   "source": [
    "x5tmp[0,145]\n",
    "pd.DataFrame(X_5[-4,145,0].T)"
   ]
  },
  {
   "cell_type": "markdown",
   "metadata": {},
   "source": [
    "## train and test for 10天调仓周期"
   ]
  },
  {
   "cell_type": "code",
   "execution_count": null,
   "metadata": {},
   "outputs": [],
   "source": [
    "train(tr_loader10,dev_loader10,model,loss_fn,optimizer,path10)\n"
   ]
  },
  {
   "cell_type": "code",
   "execution_count": null,
   "metadata": {},
   "outputs": [
    {
     "name": "stdout",
     "output_type": "stream",
     "text": [
      "28088\n",
      "28088\n",
      "RankIC mean: 0.1053174917082928 | RankIC std 0.11199283106099467\n"
     ]
    },
    {
     "data": {
      "image/png": "[encoded data removed]",
      "text/plain": [
       "<Figure size 1440x720 with 1 Axes>"
      ]
     },
     "metadata": {
      "needs_background": "light"
     },
     "output_type": "display_data"
    },
    {
     "data": {
      "image/png": "[encoded data removed]",
      "text/plain": [
       "<Figure size 1440x720 with 1 Axes>"
      ]
     },
     "metadata": {
      "needs_background": "light"
     },
     "output_type": "display_data"
    }
   ],
   "source": [
    "# model.load_state_dict(torch.load(path10))\n",
    "\n",
    "test(te_loader10,Y_10[test_idx:],te_nan10,sample_date[test_idx:],model,loss_fn)\n"
   ]
  },
  {
   "cell_type": "code",
   "execution_count": null,
   "metadata": {},
   "outputs": [
    {
     "name": "stdout",
     "output_type": "stream",
     "text": [
      "3977\n"
     ]
    }
   ],
   "source": [
    "print(len(te_nan10))"
   ]
  },
  {
   "cell_type": "code",
   "execution_count": null,
   "metadata": {},
   "outputs": [],
   "source": [
    "pd.DataFrame([original.reshape(-1),new.detach().numpy().reshape(-1)]).T.corr(method='spearman').iloc[0,1]"
   ]
  },
  {
   "cell_type": "code",
   "execution_count": null,
   "metadata": {},
   "outputs": [],
   "source": []
  }
 ],
 "metadata": {
  "kernelspec": {
   "display_name": "Python 3.7.1 64-bit (system)",
   "language": "python",
   "name": "python3"
  },
  "language_info": {
   "codemirror_mode": {
    "name": "ipython",
    "version": 3
   },
   "file_extension": ".py",
   "mimetype": "text/x-python",
   "name": "python",
   "nbconvert_exporter": "python",
   "pygments_lexer": "ipython3",
   "version": "3.7.1"
  },
  "vscode": {
   "interpreter": {
    "hash": "5a98bc0709bb551cb0b40a68bfcb118c11ed773779c4b4ca5eb3852e4a8f5446"
   }
  }
 },
 "nbformat": 4,
 "nbformat_minor": 4
}
