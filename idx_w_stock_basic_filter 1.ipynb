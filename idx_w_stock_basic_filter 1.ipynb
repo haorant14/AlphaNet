{
 "cells": [
  {
   "cell_type": "code",
   "execution_count": 8,
   "metadata": {},
   "outputs": [],
   "source": [
    "import numpy as np\n",
    "import matplotlib.pyplot as plt\n",
    "import scipy.io as sio\n",
    "import datetime\n",
    "from dateutil.relativedelta import relativedelta"
   ]
  },
  {
   "cell_type": "code",
   "execution_count": 17,
   "metadata": {},
   "outputs": [],
   "source": [
    "def load_index_weight_stock_basic():\n",
    "    '''\n",
    "        读取indew_weight中证500数据并提取con_code\n",
    "        读取stock_basic并提取ts_code与中证500的con_code对应的股票的ts_code,股票名字和上市日期\n",
    "    '''\n",
    "    mat_index_weight = sio.loadmat('index_weight.mat')\n",
    "    mat_stock_basic  = sio.loadmat('stock_basic.mat')\n",
    "    index_weight     = mat_index_weight['index_weight']\n",
    "    stock_basic      = mat_stock_basic['stock_basic']\n",
    "    con_code    = np.unique(index_weight[0,0]['con_code']).reshape(-1,1)\n",
    "    ts_code     = stock_basic[0,0]['ts_code'].reshape(-1,1)\n",
    "    name        = stock_basic[0,0]['name'].reshape(-1,1)\n",
    "    list_status = stock_basic[0,0]['list_status'].reshape(-1,1)\n",
    "    list_date   = stock_basic[0,0]['list_date'].reshape(-1,1)\n",
    "    matrix_stock_basic = np.concatenate((ts_code,name,list_status,list_date),axis=1)\n",
    "    return con_code, matrix_stock_basic"
   ]
  },
  {
   "cell_type": "code",
   "execution_count": 38,
   "metadata": {},
   "outputs": [],
   "source": [
    "def get_000905_SH_stock(matrix_stock_basic,ts_code,con_code):\n",
    "    '''\n",
    "        筛选出中证500股票\n",
    "    '''\n",
    "    intersect = np.flatnonzero(np.in1d(ts_code,con_code).reshape(ts_code.shape).any(1)) # 得到中证500股票的index\n",
    "    intersect = intersect.reshape(-1,1)\n",
    "    matrix_stock_basic = matrix_stock_basic[intersect] # 只取中证500股票\n",
    "    return np.squeeze(matrix_stock_basic)"
   ]
  },
  {
   "cell_type": "code",
   "execution_count": 42,
   "metadata": {},
   "outputs": [],
   "source": [
    "def remove_st_and_new_stock(matrix_stock_basic,date=datetime.date(2021,1,1)):\n",
    "    '''\n",
    "        去除中证500股票中是ST的股票,去除上市日期在做实验期半年内的股票,去除退市股票\n",
    "    '''\n",
    "    target_date  = date - relativedelta(months=6)\n",
    "    target_date  = target_date.strftime(\"%Y%m%d\")\n",
    "    matrix_stock_basic = [stock_basic for stock_basic in matrix_stock_basic \n",
    "                          if ('ST' not in stock_basic[1] and 'L' == stock_basic[2] and target_date > stock_basic[3])]\n",
    "    return np.squeeze(matrix_stock_basic)"
   ]
  },
  {
   "cell_type": "code",
   "execution_count": 43,
   "metadata": {},
   "outputs": [],
   "source": [
    "def get_filtered_ts_code():\n",
    "    '''\n",
    "        获得筛选好的股票数据(ts_code,股票名称,是否上市,上市日期)\n",
    "    '''\n",
    "    con_code, matrix_stock_basic = load_index_weight_stock_basic()\n",
    "    matrix_stock_basic = get_000905_SH_stock(matrix_stock_basic,matrix_stock_basic[:,0:1],con_code)\n",
    "    matrix_stock_basic = remove_st_and_new_stock(matrix_stock_basic)\n",
    "    return matrix_stock_basic"
   ]
  }
 ],
 "metadata": {
  "kernelspec": {
   "display_name": "Python 3.7.1 64-bit (system)",
   "language": "python",
   "name": "python3"
  },
  "language_info": {
   "codemirror_mode": {
    "name": "ipython",
    "version": 3
   },
   "file_extension": ".py",
   "mimetype": "text/x-python",
   "name": "python",
   "nbconvert_exporter": "python",
   "pygments_lexer": "ipython3",
   "version": "3.7.1"
  },
  "vscode": {
   "interpreter": {
    "hash": "5a98bc0709bb551cb0b40a68bfcb118c11ed773779c4b4ca5eb3852e4a8f5446"
   }
  }
 },
 "nbformat": 4,
 "nbformat_minor": 4
}
